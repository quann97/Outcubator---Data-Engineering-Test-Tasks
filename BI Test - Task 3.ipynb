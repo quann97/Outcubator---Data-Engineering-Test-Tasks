{
 "cells": [
  {
   "cell_type": "code",
   "execution_count": 1,
   "id": "cbab0169-035a-48db-b0f2-7b3099aa3415",
   "metadata": {},
   "outputs": [],
   "source": [
    "import pandas as pd"
   ]
  },
  {
   "cell_type": "code",
   "execution_count": null,
   "id": "1b3ea96e-e2e7-4517-8267-4e2edc6f7ede",
   "metadata": {},
   "outputs": [],
   "source": [
    "#IMPORT DATASET"
   ]
  },
  {
   "cell_type": "code",
   "execution_count": 3,
   "id": "9aaef3b2-bc9e-40c9-976b-736bbd682a41",
   "metadata": {
    "scrolled": true
   },
   "outputs": [
    {
     "data": {
      "text/html": [
       "<div>\n",
       "<style scoped>\n",
       "    .dataframe tbody tr th:only-of-type {\n",
       "        vertical-align: middle;\n",
       "    }\n",
       "\n",
       "    .dataframe tbody tr th {\n",
       "        vertical-align: top;\n",
       "    }\n",
       "\n",
       "    .dataframe thead th {\n",
       "        text-align: right;\n",
       "    }\n",
       "</style>\n",
       "<table border=\"1\" class=\"dataframe\">\n",
       "  <thead>\n",
       "    <tr style=\"text-align: right;\">\n",
       "      <th></th>\n",
       "      <th>Month</th>\n",
       "      <th>Product</th>\n",
       "      <th>Revenue</th>\n",
       "      <th>Profit</th>\n",
       "    </tr>\n",
       "  </thead>\n",
       "  <tbody>\n",
       "    <tr>\n",
       "      <th>0</th>\n",
       "      <td>2020-01-12</td>\n",
       "      <td>PayAlto</td>\n",
       "      <td>84021.66</td>\n",
       "      <td>909.11</td>\n",
       "    </tr>\n",
       "    <tr>\n",
       "      <th>1</th>\n",
       "      <td>2020-02-12</td>\n",
       "      <td>PayAlto</td>\n",
       "      <td>165429.59</td>\n",
       "      <td>5395.30</td>\n",
       "    </tr>\n",
       "    <tr>\n",
       "      <th>2</th>\n",
       "      <td>2020-03-12</td>\n",
       "      <td>PayAlto</td>\n",
       "      <td>291906.14</td>\n",
       "      <td>12144.56</td>\n",
       "    </tr>\n",
       "    <tr>\n",
       "      <th>3</th>\n",
       "      <td>2020-04-12</td>\n",
       "      <td>PayAlto</td>\n",
       "      <td>357797.28</td>\n",
       "      <td>5604.51</td>\n",
       "    </tr>\n",
       "    <tr>\n",
       "      <th>4</th>\n",
       "      <td>2020-05-12</td>\n",
       "      <td>PayAlto</td>\n",
       "      <td>375421.56</td>\n",
       "      <td>6400.34</td>\n",
       "    </tr>\n",
       "  </tbody>\n",
       "</table>\n",
       "</div>"
      ],
      "text/plain": [
       "       Month  Product    Revenue    Profit\n",
       "0 2020-01-12  PayAlto   84021.66    909.11\n",
       "1 2020-02-12  PayAlto  165429.59   5395.30\n",
       "2 2020-03-12  PayAlto  291906.14  12144.56\n",
       "3 2020-04-12  PayAlto  357797.28   5604.51\n",
       "4 2020-05-12  PayAlto  375421.56   6400.34"
      ]
     },
     "execution_count": 3,
     "metadata": {},
     "output_type": "execute_result"
    }
   ],
   "source": [
    "df = pd.read_excel('data.xlsx', sheet_name = 'BA_task_3')"
   ]
  },
  {
   "cell_type": "code",
   "execution_count": null,
   "id": "e7eb5953-4a22-4151-8e0b-bf88feb34889",
   "metadata": {},
   "outputs": [],
   "source": [
    "#DATA INFO"
   ]
  },
  {
   "cell_type": "code",
   "execution_count": 4,
   "id": "e8527d30-43be-4ae7-8b6c-8564033970b5",
   "metadata": {},
   "outputs": [
    {
     "data": {
      "text/plain": [
       "(119, 4)"
      ]
     },
     "execution_count": 4,
     "metadata": {},
     "output_type": "execute_result"
    }
   ],
   "source": [
    "df.shape"
   ]
  },
  {
   "cell_type": "code",
   "execution_count": 5,
   "id": "be182271-b2b9-4d21-ab13-7d43f6b7c30e",
   "metadata": {
    "scrolled": true
   },
   "outputs": [
    {
     "data": {
      "text/html": [
       "<div>\n",
       "<style scoped>\n",
       "    .dataframe tbody tr th:only-of-type {\n",
       "        vertical-align: middle;\n",
       "    }\n",
       "\n",
       "    .dataframe tbody tr th {\n",
       "        vertical-align: top;\n",
       "    }\n",
       "\n",
       "    .dataframe thead th {\n",
       "        text-align: right;\n",
       "    }\n",
       "</style>\n",
       "<table border=\"1\" class=\"dataframe\">\n",
       "  <thead>\n",
       "    <tr style=\"text-align: right;\">\n",
       "      <th></th>\n",
       "      <th>Month</th>\n",
       "      <th>Product</th>\n",
       "      <th>Revenue</th>\n",
       "      <th>Profit</th>\n",
       "    </tr>\n",
       "  </thead>\n",
       "  <tbody>\n",
       "    <tr>\n",
       "      <th>0</th>\n",
       "      <td>2020-01-12</td>\n",
       "      <td>PayAlto</td>\n",
       "      <td>84021.66</td>\n",
       "      <td>909.11</td>\n",
       "    </tr>\n",
       "    <tr>\n",
       "      <th>1</th>\n",
       "      <td>2020-02-12</td>\n",
       "      <td>PayAlto</td>\n",
       "      <td>165429.59</td>\n",
       "      <td>5395.30</td>\n",
       "    </tr>\n",
       "    <tr>\n",
       "      <th>2</th>\n",
       "      <td>2020-03-12</td>\n",
       "      <td>PayAlto</td>\n",
       "      <td>291906.14</td>\n",
       "      <td>12144.56</td>\n",
       "    </tr>\n",
       "    <tr>\n",
       "      <th>3</th>\n",
       "      <td>2020-04-12</td>\n",
       "      <td>PayAlto</td>\n",
       "      <td>357797.28</td>\n",
       "      <td>5604.51</td>\n",
       "    </tr>\n",
       "    <tr>\n",
       "      <th>4</th>\n",
       "      <td>2020-05-12</td>\n",
       "      <td>PayAlto</td>\n",
       "      <td>375421.56</td>\n",
       "      <td>6400.34</td>\n",
       "    </tr>\n",
       "  </tbody>\n",
       "</table>\n",
       "</div>"
      ],
      "text/plain": [
       "       Month  Product    Revenue    Profit\n",
       "0 2020-01-12  PayAlto   84021.66    909.11\n",
       "1 2020-02-12  PayAlto  165429.59   5395.30\n",
       "2 2020-03-12  PayAlto  291906.14  12144.56\n",
       "3 2020-04-12  PayAlto  357797.28   5604.51\n",
       "4 2020-05-12  PayAlto  375421.56   6400.34"
      ]
     },
     "execution_count": 5,
     "metadata": {},
     "output_type": "execute_result"
    }
   ],
   "source": [
    "df.head()"
   ]
  },
  {
   "cell_type": "code",
   "execution_count": 6,
   "id": "d529e537-16aa-4d36-909a-a48134e19346",
   "metadata": {},
   "outputs": [
    {
     "name": "stdout",
     "output_type": "stream",
     "text": [
      "<class 'pandas.core.frame.DataFrame'>\n",
      "RangeIndex: 119 entries, 0 to 118\n",
      "Data columns (total 4 columns):\n",
      " #   Column   Non-Null Count  Dtype         \n",
      "---  ------   --------------  -----         \n",
      " 0   Month    119 non-null    datetime64[ns]\n",
      " 1   Product  119 non-null    object        \n",
      " 2   Revenue  119 non-null    float64       \n",
      " 3   Profit   119 non-null    float64       \n",
      "dtypes: datetime64[ns](1), float64(2), object(1)\n",
      "memory usage: 3.8+ KB\n"
     ]
    }
   ],
   "source": [
    "df.info()"
   ]
  },
  {
   "cell_type": "code",
   "execution_count": 7,
   "id": "3b7870b7-9786-4cbb-b429-9f274e74661d",
   "metadata": {},
   "outputs": [
    {
     "data": {
      "text/plain": [
       "Month      datetime64[ns]\n",
       "Product            object\n",
       "Revenue           float64\n",
       "Profit            float64\n",
       "dtype: object"
      ]
     },
     "execution_count": 7,
     "metadata": {},
     "output_type": "execute_result"
    }
   ],
   "source": [
    "df.dtypes"
   ]
  },
  {
   "cell_type": "code",
   "execution_count": null,
   "id": "2e5733f9-1539-441a-b8f0-e1b248b91835",
   "metadata": {},
   "outputs": [],
   "source": [
    "#CHECK MISSING VALUES"
   ]
  },
  {
   "cell_type": "code",
   "execution_count": 8,
   "id": "47bfd868-9a22-4555-9cb1-8dee154a6a4e",
   "metadata": {},
   "outputs": [
    {
     "data": {
      "text/plain": [
       "Month      0\n",
       "Product    0\n",
       "Revenue    0\n",
       "Profit     0\n",
       "dtype: int64"
      ]
     },
     "execution_count": 8,
     "metadata": {},
     "output_type": "execute_result"
    }
   ],
   "source": [
    "df.isna().sum()"
   ]
  },
  {
   "cell_type": "markdown",
   "id": "ca82c00d-2a56-43d9-b3f0-52c0d2cb1703",
   "metadata": {},
   "source": [
    "There are no missing values in the dataset"
   ]
  },
  {
   "cell_type": "code",
   "execution_count": null,
   "id": "4a1d40f1-fd6a-4dd6-8a62-efc050da70bd",
   "metadata": {},
   "outputs": [],
   "source": [
    "#CHECK DUPLICATED VALUES"
   ]
  },
  {
   "cell_type": "code",
   "execution_count": 9,
   "id": "9d81c9fb-5171-438a-a32e-35fcc095bc72",
   "metadata": {},
   "outputs": [
    {
     "data": {
      "text/plain": [
       "0"
      ]
     },
     "execution_count": 9,
     "metadata": {},
     "output_type": "execute_result"
    }
   ],
   "source": [
    "df.duplicated().sum()"
   ]
  },
  {
   "cell_type": "markdown",
   "id": "5ca85a3e-0952-491c-9cfe-53dcb395815f",
   "metadata": {},
   "source": [
    "There are no dulicated values in the dataset"
   ]
  },
  {
   "cell_type": "code",
   "execution_count": null,
   "id": "3433cbc9-f22c-43b0-9032-2705c4424e27",
   "metadata": {},
   "outputs": [],
   "source": [
    "#QUESTION 1: Calculate annual Revenue and Profit for each product."
   ]
  },
  {
   "cell_type": "code",
   "execution_count": 13,
   "id": "4d1cacfc-fc0f-470c-a254-8fcaca715afa",
   "metadata": {},
   "outputs": [
    {
     "data": {
      "text/html": [
       "<div>\n",
       "<style scoped>\n",
       "    .dataframe tbody tr th:only-of-type {\n",
       "        vertical-align: middle;\n",
       "    }\n",
       "\n",
       "    .dataframe tbody tr th {\n",
       "        vertical-align: top;\n",
       "    }\n",
       "\n",
       "    .dataframe thead th {\n",
       "        text-align: right;\n",
       "    }\n",
       "</style>\n",
       "<table border=\"1\" class=\"dataframe\">\n",
       "  <thead>\n",
       "    <tr style=\"text-align: right;\">\n",
       "      <th></th>\n",
       "      <th>Product</th>\n",
       "      <th>Revenue</th>\n",
       "      <th>Profit</th>\n",
       "    </tr>\n",
       "  </thead>\n",
       "  <tbody>\n",
       "    <tr>\n",
       "      <th>0</th>\n",
       "      <td>Mobiamo</td>\n",
       "      <td>3.268056e+08</td>\n",
       "      <td>6426827.26</td>\n",
       "    </tr>\n",
       "    <tr>\n",
       "      <th>1</th>\n",
       "      <td>PayAlto</td>\n",
       "      <td>3.694835e+08</td>\n",
       "      <td>7762974.27</td>\n",
       "    </tr>\n",
       "  </tbody>\n",
       "</table>\n",
       "</div>"
      ],
      "text/plain": [
       "   Product       Revenue      Profit\n",
       "0  Mobiamo  3.268056e+08  6426827.26\n",
       "1  PayAlto  3.694835e+08  7762974.27"
      ]
     },
     "execution_count": 13,
     "metadata": {},
     "output_type": "execute_result"
    }
   ],
   "source": [
    "annual_summary = df.groupby('Product').agg({'Revenue' : 'sum','Profit': 'sum'}).reset_index()\n",
    "annual_summary"
   ]
  },
  {
   "cell_type": "code",
   "execution_count": null,
   "id": "2afd29b3-4cba-463d-ba03-0680bdc7d4ee",
   "metadata": {},
   "outputs": [],
   "source": [
    "#QUESTION 2: The Project Managers (PM) for PayAlto and Mobiamo are John Doe and Kelly Nguyen respectively. From the result of question 1, show in table the PM for each product. You need to create a new project manager-product table."
   ]
  },
  {
   "cell_type": "code",
   "execution_count": 17,
   "id": "6ad22c9b-4f5e-423f-af4f-38ad8c74948c",
   "metadata": {},
   "outputs": [
    {
     "data": {
      "text/html": [
       "<div>\n",
       "<style scoped>\n",
       "    .dataframe tbody tr th:only-of-type {\n",
       "        vertical-align: middle;\n",
       "    }\n",
       "\n",
       "    .dataframe tbody tr th {\n",
       "        vertical-align: top;\n",
       "    }\n",
       "\n",
       "    .dataframe thead th {\n",
       "        text-align: right;\n",
       "    }\n",
       "</style>\n",
       "<table border=\"1\" class=\"dataframe\">\n",
       "  <thead>\n",
       "    <tr style=\"text-align: right;\">\n",
       "      <th></th>\n",
       "      <th>Product</th>\n",
       "      <th>project_manager</th>\n",
       "      <th>Revenue</th>\n",
       "      <th>Profit</th>\n",
       "    </tr>\n",
       "  </thead>\n",
       "  <tbody>\n",
       "    <tr>\n",
       "      <th>0</th>\n",
       "      <td>Mobiamo</td>\n",
       "      <td>John Doe</td>\n",
       "      <td>3.268056e+08</td>\n",
       "      <td>6426827.26</td>\n",
       "    </tr>\n",
       "    <tr>\n",
       "      <th>1</th>\n",
       "      <td>PayAlto</td>\n",
       "      <td>Kelly Nguyen</td>\n",
       "      <td>3.694835e+08</td>\n",
       "      <td>7762974.27</td>\n",
       "    </tr>\n",
       "  </tbody>\n",
       "</table>\n",
       "</div>"
      ],
      "text/plain": [
       "   Product project_manager       Revenue      Profit\n",
       "0  Mobiamo        John Doe  3.268056e+08  6426827.26\n",
       "1  PayAlto    Kelly Nguyen  3.694835e+08  7762974.27"
      ]
     },
     "execution_count": 17,
     "metadata": {},
     "output_type": "execute_result"
    }
   ],
   "source": [
    "#SHOW PM FOR EACH PRODUCT\n",
    "annual_summary['project_manager'] = annual_summary['Product'].map({'Mobiamo': 'John Doe','PayAlto': 'Kelly Nguyen'})\n",
    "\n",
    "annual_summary = annual_summary[['Product', 'project_manager', 'Revenue', 'Profit']]\n",
    "\n",
    "annual_summary"
   ]
  },
  {
   "cell_type": "code",
   "execution_count": 21,
   "id": "5147b171-994c-47cb-a08f-f19e4951258b",
   "metadata": {},
   "outputs": [
    {
     "data": {
      "text/html": [
       "<div>\n",
       "<style scoped>\n",
       "    .dataframe tbody tr th:only-of-type {\n",
       "        vertical-align: middle;\n",
       "    }\n",
       "\n",
       "    .dataframe tbody tr th {\n",
       "        vertical-align: top;\n",
       "    }\n",
       "\n",
       "    .dataframe thead th {\n",
       "        text-align: right;\n",
       "    }\n",
       "</style>\n",
       "<table border=\"1\" class=\"dataframe\">\n",
       "  <thead>\n",
       "    <tr style=\"text-align: right;\">\n",
       "      <th></th>\n",
       "      <th>project_manager</th>\n",
       "      <th>Product</th>\n",
       "    </tr>\n",
       "  </thead>\n",
       "  <tbody>\n",
       "    <tr>\n",
       "      <th>0</th>\n",
       "      <td>John Doe</td>\n",
       "      <td>Mobiamo</td>\n",
       "    </tr>\n",
       "    <tr>\n",
       "      <th>1</th>\n",
       "      <td>Kelly Nguyen</td>\n",
       "      <td>PayAlto</td>\n",
       "    </tr>\n",
       "  </tbody>\n",
       "</table>\n",
       "</div>"
      ],
      "text/plain": [
       "  project_manager  Product\n",
       "0        John Doe  Mobiamo\n",
       "1    Kelly Nguyen  PayAlto"
      ]
     },
     "execution_count": 21,
     "metadata": {},
     "output_type": "execute_result"
    }
   ],
   "source": [
    "#CREATE NEW PM-PRODUCT TABLE\n",
    "project_manager_table = annual_summary[['project_manager','Product']]\n",
    "\n",
    "project_manager_table"
   ]
  },
  {
   "cell_type": "code",
   "execution_count": null,
   "id": "f76288e0-37c6-428f-b361-0cae3794b7b2",
   "metadata": {},
   "outputs": [],
   "source": [
    "#QUESTION 3: From the result of question 2, please transform the table to long format."
   ]
  },
  {
   "cell_type": "code",
   "execution_count": 26,
   "id": "06be568c-a07a-4d2b-bce8-a472ff535728",
   "metadata": {},
   "outputs": [
    {
     "data": {
      "text/html": [
       "<div>\n",
       "<style scoped>\n",
       "    .dataframe tbody tr th:only-of-type {\n",
       "        vertical-align: middle;\n",
       "    }\n",
       "\n",
       "    .dataframe tbody tr th {\n",
       "        vertical-align: top;\n",
       "    }\n",
       "\n",
       "    .dataframe thead th {\n",
       "        text-align: right;\n",
       "    }\n",
       "</style>\n",
       "<table border=\"1\" class=\"dataframe\">\n",
       "  <thead>\n",
       "    <tr style=\"text-align: right;\">\n",
       "      <th></th>\n",
       "      <th>Product</th>\n",
       "      <th>project_manager</th>\n",
       "      <th>metric</th>\n",
       "      <th>amount</th>\n",
       "    </tr>\n",
       "  </thead>\n",
       "  <tbody>\n",
       "    <tr>\n",
       "      <th>0</th>\n",
       "      <td>Mobiamo</td>\n",
       "      <td>John Doe</td>\n",
       "      <td>Revenue</td>\n",
       "      <td>3.268056e+08</td>\n",
       "    </tr>\n",
       "    <tr>\n",
       "      <th>2</th>\n",
       "      <td>Mobiamo</td>\n",
       "      <td>John Doe</td>\n",
       "      <td>Profit</td>\n",
       "      <td>6.426827e+06</td>\n",
       "    </tr>\n",
       "    <tr>\n",
       "      <th>1</th>\n",
       "      <td>PayAlto</td>\n",
       "      <td>Kelly Nguyen</td>\n",
       "      <td>Revenue</td>\n",
       "      <td>3.694835e+08</td>\n",
       "    </tr>\n",
       "    <tr>\n",
       "      <th>3</th>\n",
       "      <td>PayAlto</td>\n",
       "      <td>Kelly Nguyen</td>\n",
       "      <td>Profit</td>\n",
       "      <td>7.762974e+06</td>\n",
       "    </tr>\n",
       "  </tbody>\n",
       "</table>\n",
       "</div>"
      ],
      "text/plain": [
       "   Product project_manager   metric        amount\n",
       "0  Mobiamo        John Doe  Revenue  3.268056e+08\n",
       "2  Mobiamo        John Doe   Profit  6.426827e+06\n",
       "1  PayAlto    Kelly Nguyen  Revenue  3.694835e+08\n",
       "3  PayAlto    Kelly Nguyen   Profit  7.762974e+06"
      ]
     },
     "execution_count": 26,
     "metadata": {},
     "output_type": "execute_result"
    }
   ],
   "source": [
    "#MELT PROFIT AND REVENUE TO ONE COLUMN\n",
    "long_format_summary = pd.melt(annual_summary, id_vars=['Product', 'project_manager'], var_name='metric', value_name='amount').sort_values(by = 'Product')\n",
    "\n",
    "long_format_summary"
   ]
  }
 ],
 "metadata": {
  "kernelspec": {
   "display_name": "Python 3 (ipykernel)",
   "language": "python",
   "name": "python3"
  },
  "language_info": {
   "codemirror_mode": {
    "name": "ipython",
    "version": 3
   },
   "file_extension": ".py",
   "mimetype": "text/x-python",
   "name": "python",
   "nbconvert_exporter": "python",
   "pygments_lexer": "ipython3",
   "version": "3.11.5"
  }
 },
 "nbformat": 4,
 "nbformat_minor": 5
}
